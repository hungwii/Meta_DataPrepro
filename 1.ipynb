{
 "metadata": {
  "language_info": {
   "codemirror_mode": {
    "name": "ipython",
    "version": 3
   },
   "file_extension": ".py",
   "mimetype": "text/x-python",
   "name": "python",
   "nbconvert_exporter": "python",
   "pygments_lexer": "ipython3",
   "version": "3.7.1-final"
  },
  "orig_nbformat": 2,
  "kernelspec": {
   "name": "python3",
   "display_name": "Python 3"
  }
 },
 "nbformat": 4,
 "nbformat_minor": 2,
 "cells": [
  {
   "source": [
    "import pandas as pd #利用pandas写好的函数载入处理数据\n",
    "import numpy as np\n",
    "from pandas import DataFrame\n",
    "import json"
   ],
   "cell_type": "code",
   "metadata": {},
   "execution_count": null,
   "outputs": []
  },
  {
   "source": [
    "rel_we_need = ['Compound:Gene', 'Compound:Disease', 'Disease:Gene', 'Gene:Gene', \\\n",
    "    'Compound:Compound', 'Anatomy:Gene', 'Anatomy:Disease']\n"
   ],
   "cell_type": "code",
   "metadata": {},
   "execution_count": null,
   "outputs": []
  },
  {
   "cell_type": "code",
   "execution_count": null,
   "metadata": {},
   "outputs": [],
   "source": [
    "#下面是分割数据集的参数\n",
    "#论文中的设置大概是7:2:1,我自己共有97种关系\n",
    "train_rel_num = 81\n",
    "dev_rel_num = 10\n",
    "test_rel_num = 6 #这里的6个关系对应下面的rel_i_want\n",
    "\n",
    "rel_i_want = ['DGIDB::ANTIBODY::Gene:Compound','DGIDB::BINDER::Gene:Compound', 'DGIDB::MODULATOR::Gene:Compound',\\\n",
    "            'DGIDB::PARTIAL AGONIST::Gene:Compound', 'INTACT::DIRECT INTERACTION::Compound:Gene',\\\n",
    "            'INTACT::PHYSICAL ASSOCIATION::Compound:Gene']\n"
   ]
  },
  {
   "cell_type": "code",
   "execution_count": null,
   "metadata": {},
   "outputs": [],
   "source": [
    "#the file path of the data\n",
    "filepath_triple = './drkg_source_data/drkg.tsv' # 包含所有的三元组，非数字，纯名字\n",
    "filepath_relation = './drkg_source_data/relation_glossary.tsv'  #包含了关系名字对应的节点类别，方便我们根据rel_we_want提取出想要的关系\n",
    "filepath_ent_dic = './drkg_source_data/entities.tsv' # 这个是包含所有顶点的字典\n"
   ]
  },
  {
   "cell_type": "code",
   "execution_count": null,
   "metadata": {},
   "outputs": [],
   "source": [
    "#the output filepath for MetaR model\n",
    "output_all_tasks = './HW/tasks.json'\n",
    "output_ent2ids = './HW/ent2ids'\n",
    "output_e1rel_e2 = './HW/e1rel_e2.json'\n",
    "output_rel2candidates = './HW/rel2candidates.json'\n"
   ]
  },
  {
   "source": [
    "#the output filepath for Embed（这里是输出生成embedding的文件）\n",
    "output_ent2ids_Emb = './HW/ForEmb/entities.txt'\n",
    "output_relation_Emb = './HW/ForEmb/relations.txt'\n",
    "output_train_Emb = './HW/ForEmb/train.txt'\n",
    "output_dev_Emb = './HW/ForEmb/valid.txt'\n",
    "output_test_Emb = './HW/ForEmb/test.txt'\n"
   ],
   "cell_type": "code",
   "metadata": {},
   "execution_count": null,
   "outputs": []
  },
  {
   "cell_type": "code",
   "execution_count": null,
   "metadata": {},
   "outputs": [],
   "source": [
    "#the output filepath for Me(这里是输出一些方便我自己看的数据)\n",
    "output_ent_nums_of_all_rels = './HW/ForMe/ent_nums_of_all_rels'\n"
   ]
  },
  {
   "cell_type": "code",
   "execution_count": null,
   "metadata": {},
   "outputs": [],
   "source": [
    "#extract the relation we need \n",
    "data = pd.read_csv(filepath_relation, delimiter='\\t')\n",
    "relations = data.values.tolist()\n",
    "\n",
    "#extrat the triple we need\n",
    "data2 = pd.read_csv(filepath_triple, delimiter='\\t', header=None)\n",
    "triples = data2.values.tolist()\n",
    "\n",
    "# 输出我们需要的大类别下的小类别，方便数据检查，all_type_dic是一个字典。key是大类名，value是小类名组成的数组\n",
    "all_type_dic = {}\n",
    "for _ in rel_we_need:\n",
    "    all_type_dic[_] = []\n",
    "\n",
    "rels = []\n",
    "for relation in relations:\n",
    "    if relation[2] in rel_we_need:\n",
    "        rels.append(relation[0]) #这里我就得到了所有我需要的关系，是细致化的关系，以数组的形式存储rel \n",
    "        all_type_dic[relation[2]].append(relation[0]) \n",
    "\n",
    "for k in all_type_dic.keys():\n",
    "    print(k)\n",
    "    print(all_type_dic[k])\n",
    "    print(len(all_type_dic[k]))\n",
    "    print('--------------')\n",
    "\n",
    "#create a task dictionary to classify all triples we need\n",
    "tasks = {}\n",
    "for _ in rels:\n",
    "    tasks[_] = [] #到这里就创建了所有关系的空辞典\n",
    "\n",
    "#下面就是往key对应的value里面放元祖\n",
    "for triple in triples:\n",
    "    if triple[1] in rels:\n",
    "        tasks[triple[1]].append(triple)\n",
    "\n",
    "#打印/输出文件：每一种小任务下的三元组的数量\n",
    "# for _ in all_type_dic.keys():\n",
    "#     print(str(_) + ':')\n",
    "#     for r in all_type_dic[_]:\n",
    "#         print('---' + r + '=' + str(len(tasks[r])))\n",
    "\n",
    "print('——开始写入ent_nums_of_all_rels.txt文件——')\n",
    "#输出我自己需要的文件，方便以后进行数据查看\n",
    "with open(output_ent_nums_of_all_rels, 'w', encoding='utf-8') as output:\n",
    "    for _ in all_type_dic.keys():\n",
    "        for r in all_type_dic[_]:\n",
    "            rowtext = '{}\\t{}'.format(r, len(tasks[r]))\n",
    "            output.write(rowtext)\n",
    "            output.write('\\n')\n",
    "print('——ent_nums_of_all_rels.txt 文件加载完成——')\n",
    "\n",
    "#wirte into the file in json format\n",
    "with open(output_all_tasks, 'w') as a:\n",
    "    json.dump(tasks, a)\n",
    "print(\"——task.json文件加载完成——\")"
   ]
  },
  {
   "cell_type": "code",
   "execution_count": null,
   "metadata": {},
   "outputs": [],
   "source": [
    "from seperate_task import seperate_task\n",
    "\n",
    "all_tasks, all_keys = seperate_task(output_all_tasks, train_rel_num, dev_rel_num, test_rel_num, rel_i_want)\n"
   ]
  },
  {
   "cell_type": "code",
   "execution_count": null,
   "metadata": {},
   "outputs": [],
   "source": [
    "from generate_e12rel_e2_json import get_e12rel_e2\n",
    "\n",
    "get_e12rel_e2(rels, triples, output_e1rel_e2)\n"
   ]
  },
  {
   "cell_type": "code",
   "execution_count": null,
   "metadata": {},
   "outputs": [],
   "source": [
    "from generate_rel2candidate_json import get_rel2candidate_json\n",
    "\n",
    "get_rel2candidate_json(rels, triples, output_rel2candidates)\n"
   ]
  },
  {
   "cell_type": "code",
   "execution_count": null,
   "metadata": {},
   "outputs": [],
   "source": [
    "from generate_ent2ids import get_ent2ids\n",
    "\n",
    "ents = get_ent2ids(rels, triples, output_ent2ids, output_ent2ids_Emb)\n"
   ]
  },
  {
   "cell_type": "code",
   "execution_count": null,
   "metadata": {
    "tags": []
   },
   "outputs": [],
   "source": [
    "import genertate_emb_files\n",
    "import imp\n",
    "imp.reload(genertate_emb_files)\n",
    "\n",
    "\n",
    "train, dev = genertate_emb_files.generate_three_tasks(all_tasks,all_keys, ents, rels)\n"
   ]
  },
  {
   "cell_type": "code",
   "execution_count": null,
   "metadata": {},
   "outputs": [],
   "source": [
    "#---------输出embedding需要的5个文件--------------\n",
    "import genertate_emb_files\n",
    "import imp\n",
    "imp.reload(genertate_emb_files)\n",
    "from genertate_emb_files import wirte_tasks, write_rel, write_ents\n",
    "\n",
    "wirte_tasks(output_train_Emb, train)\n",
    "wirte_tasks(output_dev_Emb, dev)\n",
    "write_rel(output_relation_Emb,rels)\n",
    "write_ents(output_ent2ids_Emb, ents)\n"
   ]
  }
 ]
}